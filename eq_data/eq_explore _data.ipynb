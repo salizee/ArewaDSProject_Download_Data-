{
 "cells": [
  {
   "cell_type": "markdown",
   "metadata": {},
   "source": [
    "#### Examining GeoJSON Data"
   ]
  },
  {
   "cell_type": "code",
   "execution_count": 1,
   "metadata": {},
   "outputs": [
    {
     "ename": "FileNotFoundError",
     "evalue": "[Errno 2] No such file or directory: 'eq_data\\\\eq_data_1_day_m1.geojson'",
     "output_type": "error",
     "traceback": [
      "\u001b[1;31m---------------------------------------------------------------------------\u001b[0m",
      "\u001b[1;31mFileNotFoundError\u001b[0m                         Traceback (most recent call last)",
      "Cell \u001b[1;32mIn[1], line 5\u001b[0m\n\u001b[0;32m      3\u001b[0m \u001b[38;5;66;03m# Read data as a string and convert to a Python object.\u001b[39;00m\n\u001b[0;32m      4\u001b[0m path \u001b[38;5;241m=\u001b[39m Path(\u001b[38;5;124m'\u001b[39m\u001b[38;5;124meq_data/eq_data_1_day_m1.geojson\u001b[39m\u001b[38;5;124m'\u001b[39m)\n\u001b[1;32m----> 5\u001b[0m contents \u001b[38;5;241m=\u001b[39m \u001b[43mpath\u001b[49m\u001b[38;5;241;43m.\u001b[39;49m\u001b[43mread_text\u001b[49m\u001b[43m(\u001b[49m\u001b[43m)\u001b[49m\n\u001b[0;32m      6\u001b[0m all_eq_data \u001b[38;5;241m=\u001b[39m json\u001b[38;5;241m.\u001b[39mloads(contents)\n\u001b[0;32m      7\u001b[0m \u001b[38;5;66;03m# Create a more readable version of the data file.\u001b[39;00m\n",
      "File \u001b[1;32mc:\\Users\\S.M INDABAWA\\miniconda3\\Lib\\pathlib.py:1027\u001b[0m, in \u001b[0;36mPath.read_text\u001b[1;34m(self, encoding, errors)\u001b[0m\n\u001b[0;32m   1023\u001b[0m \u001b[38;5;250m\u001b[39m\u001b[38;5;124;03m\"\"\"\u001b[39;00m\n\u001b[0;32m   1024\u001b[0m \u001b[38;5;124;03mOpen the file in text mode, read it, and close the file.\u001b[39;00m\n\u001b[0;32m   1025\u001b[0m \u001b[38;5;124;03m\"\"\"\u001b[39;00m\n\u001b[0;32m   1026\u001b[0m encoding \u001b[38;5;241m=\u001b[39m io\u001b[38;5;241m.\u001b[39mtext_encoding(encoding)\n\u001b[1;32m-> 1027\u001b[0m \u001b[38;5;28;01mwith\u001b[39;00m \u001b[38;5;28;43mself\u001b[39;49m\u001b[38;5;241;43m.\u001b[39;49m\u001b[43mopen\u001b[49m\u001b[43m(\u001b[49m\u001b[43mmode\u001b[49m\u001b[38;5;241;43m=\u001b[39;49m\u001b[38;5;124;43m'\u001b[39;49m\u001b[38;5;124;43mr\u001b[39;49m\u001b[38;5;124;43m'\u001b[39;49m\u001b[43m,\u001b[49m\u001b[43m \u001b[49m\u001b[43mencoding\u001b[49m\u001b[38;5;241;43m=\u001b[39;49m\u001b[43mencoding\u001b[49m\u001b[43m,\u001b[49m\u001b[43m \u001b[49m\u001b[43merrors\u001b[49m\u001b[38;5;241;43m=\u001b[39;49m\u001b[43merrors\u001b[49m\u001b[43m)\u001b[49m \u001b[38;5;28;01mas\u001b[39;00m f:\n\u001b[0;32m   1028\u001b[0m     \u001b[38;5;28;01mreturn\u001b[39;00m f\u001b[38;5;241m.\u001b[39mread()\n",
      "File \u001b[1;32mc:\\Users\\S.M INDABAWA\\miniconda3\\Lib\\pathlib.py:1013\u001b[0m, in \u001b[0;36mPath.open\u001b[1;34m(self, mode, buffering, encoding, errors, newline)\u001b[0m\n\u001b[0;32m   1011\u001b[0m \u001b[38;5;28;01mif\u001b[39;00m \u001b[38;5;124m\"\u001b[39m\u001b[38;5;124mb\u001b[39m\u001b[38;5;124m\"\u001b[39m \u001b[38;5;129;01mnot\u001b[39;00m \u001b[38;5;129;01min\u001b[39;00m mode:\n\u001b[0;32m   1012\u001b[0m     encoding \u001b[38;5;241m=\u001b[39m io\u001b[38;5;241m.\u001b[39mtext_encoding(encoding)\n\u001b[1;32m-> 1013\u001b[0m \u001b[38;5;28;01mreturn\u001b[39;00m \u001b[43mio\u001b[49m\u001b[38;5;241;43m.\u001b[39;49m\u001b[43mopen\u001b[49m\u001b[43m(\u001b[49m\u001b[38;5;28;43mself\u001b[39;49m\u001b[43m,\u001b[49m\u001b[43m \u001b[49m\u001b[43mmode\u001b[49m\u001b[43m,\u001b[49m\u001b[43m \u001b[49m\u001b[43mbuffering\u001b[49m\u001b[43m,\u001b[49m\u001b[43m \u001b[49m\u001b[43mencoding\u001b[49m\u001b[43m,\u001b[49m\u001b[43m \u001b[49m\u001b[43merrors\u001b[49m\u001b[43m,\u001b[49m\u001b[43m \u001b[49m\u001b[43mnewline\u001b[49m\u001b[43m)\u001b[49m\n",
      "\u001b[1;31mFileNotFoundError\u001b[0m: [Errno 2] No such file or directory: 'eq_data\\\\eq_data_1_day_m1.geojson'"
     ]
    }
   ],
   "source": [
    "from pathlib import Path\n",
    "import json\n",
    "# Read data as a string and convert to a Python object.\n",
    "path = Path('eq_data/eq_data_1_day_m1.geojson')\n",
    "contents = path.read_text()\n",
    "all_eq_data = json.loads(contents)\n",
    "# Create a more readable version of the data file.\n",
    "path = Path('eq_data/readable_eq_data.geojson')\n",
    "readable_contents = json.dumps(all_eq_data, indent=4)\n",
    "path.write_text(readable_contents)"
   ]
  },
  {
   "cell_type": "markdown",
   "metadata": {},
   "source": [
    "#### A dictionary representing a single earthquake:"
   ]
  },
  {
   "cell_type": "code",
   "execution_count": null,
   "metadata": {},
   "outputs": [],
   "source": [
    "{\n",
    " \"type\": \"FeatureCollection\",\n",
    " \"metadata\": {\n",
    " \"generated\": 1649052296000,\n",
    " \"url\": \"https://earthquake.usgs.gov/earthquakes/.../1.0_day.geojson\",\n",
    " \"title\": \"USGS Magnitude 1.0+ Earthquakes, Past Day\",\n",
    " \"status\": 200,\n",
    " \"api\": \"1.10.3\",\n",
    " \"count\": 160\n",
    " },\n",
    " \"features\": [\n",
    "  {\n",
    "   \"type\": \"Feature\",\n",
    "   \"properties\": {\n",
    "    \"mag\": 1.6,\n",
    "    \"title\": \"M 1.6 - 27 km NNW of Susitna, Alaska\"\n",
    "   },\n",
    "   \"geometry\": {\n",
    "    \"type\": \"Point\",\n",
    "    \"coordinates\": [\n",
    "     -150.7585,\n",
    "     61.7591,\n",
    "     56.3\n",
    "    ]\n",
    "   },\n",
    "   \"id\": \"ak0224bju1jx\"\n",
    "  }\n",
    " ]\n",
    "}"
   ]
  },
  {
   "cell_type": "markdown",
   "metadata": {},
   "source": [
    "#### Making a List of All Earthquakes"
   ]
  },
  {
   "cell_type": "code",
   "execution_count": null,
   "metadata": {},
   "outputs": [],
   "source": [
    "from pathlib import Path\n",
    "import json\n",
    "\n",
    "# Use an absolute path to the file\n",
    "path = Path('/absolute/path/to/eq_data/eq_data_1_day_m1.geojson')\n",
    "contents = path.read_text()\n",
    "all_eq_data = json.loads(contents)\n",
    "\n",
    "# Examine all earthquakes in the dataset.\n",
    "all_eq_dicts = all_eq_data['features']\n",
    "print(len(all_eq_dicts))"
   ]
  },
  {
   "cell_type": "markdown",
   "metadata": {},
   "source": [
    "#### Extracting Magnitudes"
   ]
  },
  {
   "cell_type": "code",
   "execution_count": null,
   "metadata": {},
   "outputs": [],
   "source": [
    "all_eq_dicts = all_eq_data['features']\n",
    "mags = []\n",
    "for eq_dict in all_eq_dicts:\n",
    "  mag = eq_dict['properties']['mag']\n",
    "mags.append(mag)\n",
    "print(mags[:10])"
   ]
  },
  {
   "cell_type": "markdown",
   "metadata": {},
   "source": [
    "#### Extracting Location Data"
   ]
  },
  {
   "cell_type": "code",
   "execution_count": null,
   "metadata": {},
   "outputs": [],
   "source": [
    "all_eq_dicts = all_eq_data['features']\n",
    "mags, lons, lats = [], [], []\n",
    "for eq_dict in all_eq_dicts:\n",
    " mag = eq_dict['properties']['mag']\n",
    "lon = eq_dict['geometry']['coordinates'][0]\n",
    "lat = eq_dict['geometry']['coordinates'][1]\n",
    "mags.append(mag)\n",
    "lons.append(lon)\n",
    "lats.append(lat)\n",
    "print(mags[:10])\n",
    "print(lons[:5])\n",
    "print(lats[:5])"
   ]
  },
  {
   "cell_type": "markdown",
   "metadata": {},
   "source": [
    "#### Building a World Map"
   ]
  },
  {
   "cell_type": "code",
   "execution_count": null,
   "metadata": {},
   "outputs": [],
   "source": [
    "from pathlib import Path\n",
    "import json\n",
    "import plotly.express as px\n",
    "for eq_dict in all_eq_dicts:\n",
    " title = 'Global Earthquakes'\n",
    " fig = px.scatter_geo(lat=lats, lon=lons, title=title)\n",
    "fig.show()"
   ]
  },
  {
   "cell_type": "markdown",
   "metadata": {},
   "source": [
    "#### Representing Magnitudes"
   ]
  },
  {
   "cell_type": "code",
   "execution_count": null,
   "metadata": {},
   "outputs": [],
   "source": [
    "# Read data as a string and convert to a Python object.\n",
    "path = Path('eq_data/eq_data_30_day_m1.geojson')\n",
    "contents = path.read_text()\n",
    "title = 'Global Earthquakes'\n",
    "fig = px.scatter_geo(lat=lats, lon=lons, size=mags, title=title)\n",
    "fig.show()"
   ]
  },
  {
   "cell_type": "markdown",
   "metadata": {},
   "source": [
    "#### Customizing Marker Colors"
   ]
  },
  {
   "cell_type": "code",
   "execution_count": null,
   "metadata": {},
   "outputs": [],
   "source": [
    "fig = px.scatter_geo(\n",
    "\tlon=lons, lat=lats, size=mags, title=title,\n",
    "\tcolor=mags, color_continuous_scale='Viridis',\n",
    "\tlabels={'color': 'Magnitude'}, projection='natural earth'\n",
    ")\n",
    "fig.show()"
   ]
  },
  {
   "cell_type": "markdown",
   "metadata": {},
   "source": [
    "#### Adding Hover Text\n",
    "To make this change, we need to pull a little more data from the file:"
   ]
  },
  {
   "cell_type": "code",
   "execution_count": null,
   "metadata": {},
   "outputs": [],
   "source": [
    "mags, lons, lats, eq_titles = [], [], [], []\n",
    "mag = eq_dict['properties']['mag']\n",
    "lon = eq_dict['geometry']['coordinates'][0]\n",
    "lat = eq_dict['geometry']['coordinates'][1]\n",
    "eq_title = eq_dict['properties']['title']\n",
    "mags.append(mag)\n",
    "lons.append(lon)\n",
    "lats.append(lat)\n",
    "eq_titles.append(eq_title)\n",
    "title = 'Global Earthquakes'\n",
    "fig = px.scatter_geo(lat=lats, lon=lons, size=mags, title=title,\n",
    " projection='natural earth',\n",
    " hover_name=eq_titles,\n",
    " )\n",
    "fig.show()\n"
   ]
  }
 ],
 "metadata": {
  "kernelspec": {
   "display_name": "base",
   "language": "python",
   "name": "python3"
  },
  "language_info": {
   "codemirror_mode": {
    "name": "ipython",
    "version": 3
   },
   "file_extension": ".py",
   "mimetype": "text/x-python",
   "name": "python",
   "nbconvert_exporter": "python",
   "pygments_lexer": "ipython3",
   "version": "3.12.3"
  }
 },
 "nbformat": 4,
 "nbformat_minor": 2
}
